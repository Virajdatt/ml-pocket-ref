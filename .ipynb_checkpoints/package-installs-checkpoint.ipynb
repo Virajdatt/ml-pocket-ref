{
 "cells": [
  {
   "cell_type": "code",
   "execution_count": 1,
   "id": "275e69ac",
   "metadata": {},
   "outputs": [],
   "source": [
    "import sklearn"
   ]
  },
  {
   "cell_type": "code",
   "execution_count": 2,
   "id": "2bfd37c3",
   "metadata": {},
   "outputs": [
    {
     "name": "stdout",
     "output_type": "stream",
     "text": [
      "/Users/virajdatt/opt/anaconda3/bin/python\r\n"
     ]
    }
   ],
   "source": [
    "!which python "
   ]
  },
  {
   "cell_type": "code",
   "execution_count": 3,
   "id": "aaeac261",
   "metadata": {},
   "outputs": [
    {
     "name": "stdout",
     "output_type": "stream",
     "text": [
      "/Users/virajdatt/opt/anaconda3/bin/pip\r\n"
     ]
    }
   ],
   "source": [
    "!which pip"
   ]
  },
  {
   "cell_type": "code",
   "execution_count": 5,
   "id": "39b3b808",
   "metadata": {},
   "outputs": [],
   "source": [
    "#!pip install auto-sklearn\n",
    "# Auto-sklearn has a problem on macos"
   ]
  },
  {
   "cell_type": "code",
   "execution_count": 8,
   "id": "d86272e4",
   "metadata": {},
   "outputs": [],
   "source": [
    "#!pip install yellowbrick"
   ]
  },
  {
   "cell_type": "code",
   "execution_count": 10,
   "id": "d1e63ddd",
   "metadata": {},
   "outputs": [],
   "source": [
    "#!pip install pyjanitor"
   ]
  },
  {
   "cell_type": "code",
   "execution_count": 12,
   "id": "ebcd12b4",
   "metadata": {},
   "outputs": [],
   "source": [
    "#!pip install missingno"
   ]
  },
  {
   "cell_type": "code",
   "execution_count": 1,
   "id": "0d6ebb4f",
   "metadata": {},
   "outputs": [
    {
     "name": "stdout",
     "output_type": "stream",
     "text": [
      "Collecting rfpimp\n",
      "  Downloading rfpimp-1.3.7.tar.gz (10 kB)\n",
      "Requirement already satisfied: numpy in /Users/virajdatt/opt/anaconda3/lib/python3.8/site-packages (from rfpimp) (1.19.5)\n",
      "Requirement already satisfied: pandas in /Users/virajdatt/opt/anaconda3/lib/python3.8/site-packages (from rfpimp) (1.2.4)\n",
      "Requirement already satisfied: scikit-learn in /Users/virajdatt/opt/anaconda3/lib/python3.8/site-packages (from rfpimp) (0.24.1)\n",
      "Requirement already satisfied: matplotlib in /Users/virajdatt/opt/anaconda3/lib/python3.8/site-packages (from rfpimp) (3.3.4)\n",
      "Requirement already satisfied: cycler>=0.10 in /Users/virajdatt/opt/anaconda3/lib/python3.8/site-packages (from matplotlib->rfpimp) (0.10.0)\n",
      "Requirement already satisfied: pyparsing!=2.0.4,!=2.1.2,!=2.1.6,>=2.0.3 in /Users/virajdatt/opt/anaconda3/lib/python3.8/site-packages (from matplotlib->rfpimp) (2.4.7)\n",
      "Requirement already satisfied: pillow>=6.2.0 in /Users/virajdatt/opt/anaconda3/lib/python3.8/site-packages (from matplotlib->rfpimp) (8.2.0)\n",
      "Requirement already satisfied: python-dateutil>=2.1 in /Users/virajdatt/opt/anaconda3/lib/python3.8/site-packages (from matplotlib->rfpimp) (2.8.1)\n",
      "Requirement already satisfied: kiwisolver>=1.0.1 in /Users/virajdatt/opt/anaconda3/lib/python3.8/site-packages (from matplotlib->rfpimp) (1.3.1)\n",
      "Requirement already satisfied: six in /Users/virajdatt/opt/anaconda3/lib/python3.8/site-packages (from cycler>=0.10->matplotlib->rfpimp) (1.15.0)\n",
      "Requirement already satisfied: pytz>=2017.3 in /Users/virajdatt/opt/anaconda3/lib/python3.8/site-packages (from pandas->rfpimp) (2021.1)\n",
      "Requirement already satisfied: joblib>=0.11 in /Users/virajdatt/opt/anaconda3/lib/python3.8/site-packages (from scikit-learn->rfpimp) (1.0.1)\n",
      "Requirement already satisfied: scipy>=0.19.1 in /Users/virajdatt/opt/anaconda3/lib/python3.8/site-packages (from scikit-learn->rfpimp) (1.7.3)\n",
      "Requirement already satisfied: threadpoolctl>=2.0.0 in /Users/virajdatt/opt/anaconda3/lib/python3.8/site-packages (from scikit-learn->rfpimp) (2.1.0)\n",
      "Building wheels for collected packages: rfpimp\n",
      "  Building wheel for rfpimp (setup.py) ... \u001b[?25ldone\n",
      "\u001b[?25h  Created wheel for rfpimp: filename=rfpimp-1.3.7-py3-none-any.whl size=10668 sha256=d5e9675e8cad8cd539e45d0b40f2c99d7869bfa75176750b4fa2c123ee2b2203\n",
      "  Stored in directory: /Users/virajdatt/Library/Caches/pip/wheels/8a/42/e5/d2e9d77df351103d7d16dbc82ce6090cb2f71cee74b7380b7b\n",
      "Successfully built rfpimp\n",
      "Installing collected packages: rfpimp\n",
      "Successfully installed rfpimp-1.3.7\n"
     ]
    }
   ],
   "source": [
    "!pip install rfpimp"
   ]
  },
  {
   "cell_type": "code",
   "execution_count": null,
   "id": "868463dc",
   "metadata": {},
   "outputs": [],
   "source": []
  }
 ],
 "metadata": {
  "kernelspec": {
   "display_name": "Python 3.8.8 64-bit ('base': conda)",
   "language": "python",
   "name": "python388jvsc74a57bd078626e5cb14307b2371f3946c1caa5bbc168a9eda33df78f60dc6faeb16eeee6"
  },
  "language_info": {
   "codemirror_mode": {
    "name": "ipython",
    "version": 3
   },
   "file_extension": ".py",
   "mimetype": "text/x-python",
   "name": "python",
   "nbconvert_exporter": "python",
   "pygments_lexer": "ipython3",
   "version": "3.8.8"
  }
 },
 "nbformat": 4,
 "nbformat_minor": 5
}
